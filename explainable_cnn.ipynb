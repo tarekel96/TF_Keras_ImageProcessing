{
  "nbformat": 4,
  "nbformat_minor": 0,
  "metadata": {
    "colab": {
      "provenance": [],
      "authorship_tag": "ABX9TyOz+2OnQLPkEOqCsyWe8JEP"
    },
    "kernelspec": {
      "name": "python3",
      "display_name": "Python 3"
    },
    "language_info": {
      "name": "python"
    },
    "accelerator": "TPU"
  },
  "cells": [
    {
      "cell_type": "code",
      "execution_count": 19,
      "metadata": {
        "id": "s4w2lP3JSBxT"
      },
      "outputs": [],
      "source": [
        "# import the necessary packages\n",
        "from tensorflow.keras.models import Model\n",
        "from tensorflow.keras.models import Sequential\n",
        "from tensorflow.keras.layers import BatchNormalization\n",
        "from tensorflow.keras.layers import Conv2D\n",
        "from tensorflow.keras.layers import MaxPooling2D\n",
        "from tensorflow.keras.layers import Activation\n",
        "from tensorflow.keras.layers import Flatten\n",
        "from tensorflow.keras.layers import Dropout\n",
        "from tensorflow.keras.layers import Dense\n",
        "from tensorflow.keras.optimizers import Adam\n",
        "from tensorflow.keras.losses import categorical_crossentropy\n",
        "from tensorflow.keras.utils import to_categorical\n",
        "from tensorflow.keras.datasets import mnist\n",
        "from tensorflow.keras.preprocessing.image import img_to_array\n",
        "from tensorflow.keras.preprocessing.image import load_img\n",
        "from tensorflow.keras.applications import imagenet_utils\n",
        "from matplotlib import pyplot as plt\n",
        "import tensorflow as tf\n",
        "import numpy as np\n",
        "import cv2\n",
        "import time\n",
        "import sys"
      ]
    },
    {
      "cell_type": "code",
      "source": [
        "DEFAULT_CONFIG = {\n",
        "    'init_learning_rate': None,\n",
        "    'decay_steps': None,\n",
        "    'decay_rate': 0.9,\n",
        "    'staircase': True\n",
        "    }\n",
        "\n",
        "class cnn_model:\n",
        "  def __init__(self, width, height, depth, classes, config=DEFAULT_CONFIG):\n",
        "    self.input_shape = (height, width, depth) # dimensions of the input images\n",
        "    self.channel_dim = -1 # channels dimension to be \"channels last\" ordering\n",
        "\n",
        "    # Exponential decay schedule\n",
        "    self.lr_schedule = tf.keras.optimizers.schedules.ExponentialDecay(\n",
        "        initial_learning_rate=config['init_learning_rate'],\n",
        "        decay_steps=config['decay_steps'],\n",
        "        decay_rate=config['decay_rate'],\n",
        "        staircase=config['staircase']\n",
        "    )\n",
        "    # initialize optimizer\n",
        "    self.opt = Adam(learning_rate=self.lr_schedule)\n",
        "\n",
        "\n",
        "    self.model = Sequential([\n",
        "\n",
        "      # Layer Set 1 - Input Layer:\n",
        "      # CONV => RELU => BN => POOL\n",
        "      # Conv - 16 filters with 3x3 kernal, produces 16 feature maps\n",
        "      Conv2D(16, (3, 3), padding=\"same\", input_shape=self.input_shape),\n",
        "      Activation(\"relu\"), # introduce non-linearity\n",
        "      BatchNormalization(axis=self.channel_dim), # converge faster\n",
        "      # reduce spatial dims (hgt & width) of each feature map\n",
        "      MaxPooling2D(pool_size=(2, 2)),\n",
        "\n",
        "      # Layer Set 2:\n",
        "      # (CONV => RELU => BN) * 2 => POOL\n",
        "      # Conv - 32 filters with 3x3 kernal\n",
        "      Conv2D(32, (3, 3), padding=\"same\"),\n",
        "      Activation(\"relu\"),\n",
        "      BatchNormalization(axis=self.channel_dim),\n",
        "      Conv2D(32, (3, 3), padding=\"same\"),\n",
        "      Activation(\"relu\"),\n",
        "      BatchNormalization(axis=self.channel_dim),\n",
        "      MaxPooling2D(pool_size=(2, 2)),\n",
        "\n",
        "      # Layer Set 3:\n",
        "      # (CONV => RELU => BN) * 3 => POOL\n",
        "      # Conv - 64 filters with 3x3 kernal\n",
        "      Conv2D(64, (3, 3), padding=\"same\"),\n",
        "      Activation(\"relu\"),\n",
        "      BatchNormalization(axis=self.channel_dim),\n",
        "      Conv2D(64, (3, 3), padding=\"same\"),\n",
        "      Activation(\"relu\"),\n",
        "      BatchNormalization(axis=self.channel_dim),\n",
        "      Conv2D(64, (3, 3), padding=\"same\"),\n",
        "      Activation(\"relu\"),\n",
        "      BatchNormalization(axis=self.channel_dim),\n",
        "      MaxPooling2D(pool_size=(2, 2)),\n",
        "\n",
        "      # Layer Set 4:\n",
        "      # Fully Connected layer => RELU layers\n",
        "      Flatten(),\n",
        "      Dense(256), # 256 neurons\n",
        "      Activation(\"relu\"),\n",
        "      BatchNormalization(), # axis not specified bc 1-D\n",
        "      # 50% dropout reduces overfitting, increasing model generalization\n",
        "      Dropout(0.5),\n",
        "\n",
        "      # Layer Set 5 - Output Layer:\n",
        "      # softmax classifier\n",
        "      # each neuron is probability score of respective class\n",
        "      Dense(classes),\n",
        "      Activation(\"softmax\")\n",
        "    ])\n",
        "\n",
        "\n",
        "  def step(self, X, y):\n",
        "    '''\n",
        "    Custom training loop (step function) that\n",
        "    encapsulates forward and backward pass of\n",
        "    data (single step of gradient descent) using\n",
        "    GradientTape and updating model weights.\n",
        "    '''\n",
        "\n",
        "    # keeps track of all operations that happen on trainable\n",
        "    # variables onto a \"tape\" for automatic differentiation.\n",
        "    with tf.GradientTape() as tape:\n",
        "      # make a prediction using the model\n",
        "      pred = self.model(X)\n",
        "\n",
        "      # typical lf for multi-class classification\n",
        "      loss = categorical_crossentropy(y, pred)\n",
        "\n",
        "    # **** Automatic Differentiation ****\n",
        "    # calculate gradients using tape & chain rule\n",
        "    grads = tape.gradient(loss, self.model.trainable_variables)\n",
        "\n",
        "    # optimizer updates the model weights using calculated gradients.\n",
        "    self.opt.apply_gradients(zip(grads, self.model.trainable_variables))\n",
        "\n",
        "  def fit(self, x_train, y_train, batch_size, epochs):\n",
        "    # compute number of batch updates per epoch\n",
        "    num_updates = int(x_train.shape[0] / batch_size)\n",
        "\n",
        "    # loop over the number of epochs\n",
        "    for epoch in range(0, epochs):\n",
        "\n",
        "      # log current epoch number\n",
        "      print(\"[INFO] starting epoch {}/{}...\".format(epoch + 1, epochs), end=\"\")\n",
        "      sys.stdout.flush()\n",
        "      epoch_start = time.time()\n",
        "\n",
        "      # loop over the data in batch size increments\n",
        "      for i in range(0, num_updates):\n",
        "\n",
        "        # determine starting and ending\n",
        "        # slice indexes for current batch\n",
        "        start = i * batch_size\n",
        "        end = start + batch_size\n",
        "\n",
        "        # take a step - apply step function\n",
        "        self.step(x_train[start:end], y_train[start:end])\n",
        "\n",
        "      # log timing information for the epoch\n",
        "      epoch_end = time.time()\n",
        "      elapsed = (epoch_end - epoch_start) / 60.0\n",
        "      print(\"[INFO] took {:.4} minutes\".format(elapsed))\n",
        ""
      ],
      "metadata": {
        "id": "s7JwPyzgbYBK"
      },
      "execution_count": 2,
      "outputs": []
    },
    {
      "cell_type": "code",
      "source": [
        "class GradCAM:\n",
        "\tdef __init__(self, model, classIdx, layerName=None):\n",
        "\t\t# store the model, the class index used to measure the class\n",
        "\t\t# activation map, and the layer to be used when visualizing\n",
        "\t\t# the class activation map\n",
        "\t\tself.model = model.model\n",
        "\t\tself.classIdx = classIdx\n",
        "\t\tself.layerName = layerName\n",
        "\t\t# if the layer name is None, attempt to automatically find\n",
        "\t\t# the target output layer\n",
        "\t\tif self.layerName is None:\n",
        "\t\t\tself.layerName = self.find_target_layer()\n",
        "\n",
        "\tdef find_target_layer(self):\n",
        "   \t# attempt to find the final convolutional layer in the network\n",
        "\t\t# by looping over the layers of the network in reverse order\n",
        "\t\tfor layer in reversed(self.model.layers):\n",
        "\t\t\t# check to see if the layer has a 4D output\n",
        "\t\t\tif len(layer.output_shape) == 4:\n",
        "\t\t\t\treturn layer.name\n",
        "\t\t# otherwise, we could not find a 4D layer so the GradCAM\n",
        "\t\t# algorithm cannot be applied\n",
        "\t\traise ValueError(\"Could not find 4D layer. Cannot apply GradCAM.\")\n",
        "\n",
        "\n",
        "\tdef compute_heatmap(self, image, eps=1e-8):\n",
        "\t\t# construct our gradient model by supplying (1) the inputs\n",
        "\t\t# to our pre-trained model, (2) the output of the (presumably)\n",
        "\t\t# final 4D layer in the network, and (3) the output of the\n",
        "\t\t# softmax activations from the model\n",
        "\t\tgradModel = Model(\n",
        "      inputs=[self.model.inputs],\n",
        "      outputs=[self.model.get_layer(self.layerName).output,\n",
        "      self.model.output]\n",
        "    )\n",
        "\n",
        "  \t\t# record operations for automatic differentiation\n",
        "\t\twith tf.GradientTape() as tape:\n",
        "\t\t\t# cast the image tensor to a float-32 data type, pass the\n",
        "\t\t\t# image through the gradient model, and grab the loss\n",
        "\t\t\t# associated with the specific class index\n",
        "\t\t\tinputs = tf.cast(image, tf.float32)\n",
        "\t\t\t(convOutputs, predictions) = gradModel(inputs)\n",
        "\t\t\tloss = predictions[:, self.classIdx]\n",
        "\t\t# use automatic differentiation to compute the gradients\n",
        "\t\tgrads = tape.gradient(loss, convOutputs)\n",
        "\n",
        "  \t# compute the guided gradients\n",
        "\t\tcastConvOutputs = tf.cast(convOutputs > 0, \"float32\")\n",
        "\t\tcastGrads = tf.cast(grads > 0, \"float32\")\n",
        "\t\tguidedGrads = castConvOutputs * castGrads * grads\n",
        "\t\t# the convolution and guided gradients have a batch dimension\n",
        "\t\t# (which we don't need) so let's grab the volume itself and\n",
        "\t\t# discard the batch\n",
        "\t\tconvOutputs = convOutputs[0]\n",
        "\t\tguidedGrads = guidedGrads[0]\n",
        "\n",
        "    # compute the average of the gradient values, and using them\n",
        "\t\t# as weights, compute the ponderation of the filters with\n",
        "\t\t# respect to the weights\n",
        "\t\tweights = tf.reduce_mean(guidedGrads, axis=(0, 1))\n",
        "\t\tcam = tf.reduce_sum(tf.multiply(weights, convOutputs), axis=-1)\n",
        "\n",
        "    # grab the spatial dimensions of the input image and resize\n",
        "\t\t# the output class activation map to match the input image\n",
        "\t\t# dimensions\n",
        "\t\t(w, h) = (image.shape[2], image.shape[1])\n",
        "\t\theatmap = cv2.resize(cam.numpy(), (w, h))\n",
        "\t\t# normalize the heatmap such that all values lie in the range\n",
        "\t\t# [0, 1], scale the resulting values to the range [0, 255],\n",
        "\t\t# and then convert to an unsigned 8-bit integer\n",
        "\t\tnumer = heatmap - np.min(heatmap)\n",
        "\t\tdenom = (heatmap.max() - heatmap.min()) + eps\n",
        "\t\theatmap = numer / denom\n",
        "\t\theatmap = (heatmap * 255).astype(\"uint8\")\n",
        "\t\t# return the resulting heatmap to the calling function\n",
        "\t\treturn heatmap\n",
        "\n",
        "\tdef overlay_heatmap(self, heatmap,\n",
        "                     image, alpha=0.5,\n",
        "                     colormap=cv2.COLORMAP_VIRIDIS):\n",
        "    # apply the supplied color map to the heatmap and then\n",
        "    # overlay the heatmap on the input image\n",
        "\t\theatmap = cv2.applyColorMap(heatmap, colormap)\n",
        "\t\toutput = cv2.addWeighted(image, alpha, heatmap, 1 - alpha, 0)\n",
        "    # return a 2-tuple of the color mapped heatmap and the output,\n",
        "    # overlaid image\n",
        "\t\treturn (heatmap, output)\n"
      ],
      "metadata": {
        "id": "1LpGi9XhACxR"
      },
      "execution_count": 32,
      "outputs": []
    },
    {
      "cell_type": "code",
      "source": [
        "# initialize Training Parameters\n",
        "EPOCHS = 2\n",
        "BATCH_SZ = 64\n",
        "LRN_RATE = 1e-3"
      ],
      "metadata": {
        "id": "XjMwOH1P4bAh"
      },
      "execution_count": 3,
      "outputs": []
    },
    {
      "cell_type": "code",
      "source": [
        "print(\"[INFO] loading MNIST dataset...\")\n",
        "((trainX, trainY), (testX, testY)) = mnist.load_data()"
      ],
      "metadata": {
        "colab": {
          "base_uri": "https://localhost:8080/"
        },
        "id": "hkRwoMtK4rSp",
        "outputId": "9f1b3e81-2e40-4754-f53f-7152e9aab1ce"
      },
      "execution_count": 4,
      "outputs": [
        {
          "output_type": "stream",
          "name": "stdout",
          "text": [
            "[INFO] loading MNIST dataset...\n"
          ]
        }
      ]
    },
    {
      "cell_type": "code",
      "source": [
        "# add a channel dimension at last axis\n",
        "# to every image in the dataset\n",
        "trainX = np.expand_dims(trainX, axis=-1)\n",
        "\n",
        "# normalize images to the range [0, 1]\n",
        "# by rescaling the pixel intensities\n",
        "testX = np.expand_dims(testX, axis=-1)\n",
        "trainX = trainX.astype(\"float32\") / 255.0\n",
        "testX = testX.astype(\"float32\") / 255.0\n",
        "\n",
        "# one-hot encode the labels to\n",
        "# allow the model to predict the\n",
        "# probability of each class independently\n",
        "trainY = to_categorical(trainY, 10)\n",
        "testY = to_categorical(testY, 10)"
      ],
      "metadata": {
        "id": "NfBm5KkY4s7j"
      },
      "execution_count": 5,
      "outputs": []
    },
    {
      "cell_type": "code",
      "source": [
        "steps_per_epoch = len(trainX) // BATCH_SZ\n",
        "decay_steps = steps_per_epoch * EPOCHS"
      ],
      "metadata": {
        "id": "HOsnBWRM4_oK"
      },
      "execution_count": 6,
      "outputs": []
    },
    {
      "cell_type": "code",
      "source": [
        "config = {\n",
        "    'init_learning_rate': LRN_RATE,\n",
        "    'decay_steps': decay_steps,\n",
        "    'decay_rate': 0.9,\n",
        "    'staircase': True\n",
        "}\n",
        "\n",
        "model = cnn_model(28, 28, 1, 10, config=config)"
      ],
      "metadata": {
        "id": "-AxwKAfc4xHp"
      },
      "execution_count": 7,
      "outputs": []
    },
    {
      "cell_type": "code",
      "source": [
        "model.fit(trainX, trainY, BATCH_SZ, EPOCHS)"
      ],
      "metadata": {
        "colab": {
          "base_uri": "https://localhost:8080/"
        },
        "id": "aRqmYBc15NSE",
        "outputId": "d1961352-8fd8-4e6c-f809-7bb7b3de4a9d"
      },
      "execution_count": 8,
      "outputs": [
        {
          "output_type": "stream",
          "name": "stdout",
          "text": [
            "[INFO] starting epoch 1/2...[INFO] took 4.949 minutes\n",
            "[INFO] starting epoch 2/2...[INFO] took 5.119 minutes\n"
          ]
        }
      ]
    },
    {
      "cell_type": "code",
      "source": [
        "# calculate accuracy using Keras functions.\n",
        "model.model.compile(optimizer=model.opt, loss=categorical_crossentropy, metrics=[\"acc\"])\n",
        "\n",
        "# compute accuracy\n",
        "(loss, acc) = model.model.evaluate(testX, testY)\n",
        "print(\"[INFO] test loss: {:.4f}\".format(loss))\n",
        "print(\"[INFO] test accuracy: {:.4f}\".format(acc))"
      ],
      "metadata": {
        "colab": {
          "base_uri": "https://localhost:8080/"
        },
        "id": "hkz-y6r17x35",
        "outputId": "adbf14b4-7a6d-491d-97ce-e33c3c706d00"
      },
      "execution_count": 9,
      "outputs": [
        {
          "output_type": "stream",
          "name": "stdout",
          "text": [
            "313/313 [==============================] - 11s 34ms/step - loss: 0.0347 - acc: 0.9886\n",
            "[INFO] test loss: 0.0347\n",
            "[INFO] test accuracy: 0.9886\n"
          ]
        }
      ]
    },
    {
      "cell_type": "code",
      "source": [
        "test_img = testX[0]\n",
        "test_img.shape"
      ],
      "metadata": {
        "colab": {
          "base_uri": "https://localhost:8080/"
        },
        "id": "EsX1vj1WD76N",
        "outputId": "9a11ba52-2c7f-4608-afec-b73514e0d045"
      },
      "execution_count": 17,
      "outputs": [
        {
          "output_type": "execute_result",
          "data": {
            "text/plain": [
              "(28, 28, 1)"
            ]
          },
          "metadata": {},
          "execution_count": 17
        }
      ]
    },
    {
      "cell_type": "code",
      "source": [
        "test_img = np.array(test_img, dtype='float')\n",
        "pixels = test_img.reshape((28, 28))\n",
        "plt.imshow(pixels, cmap='gray')\n",
        "plt.show()"
      ],
      "metadata": {
        "colab": {
          "base_uri": "https://localhost:8080/",
          "height": 430
        },
        "id": "9BdtC6X-D_jS",
        "outputId": "8ab492f1-e065-464e-a4f3-d2268ffcd10c"
      },
      "execution_count": 20,
      "outputs": [
        {
          "output_type": "display_data",
          "data": {
            "text/plain": [
              "<Figure size 640x480 with 1 Axes>"
            ],
            "image/png": "[encoded data removed]"
          },
          "metadata": {}
        }
      ]
    },
    {
      "cell_type": "code",
      "source": [
        "image = np.expand_dims(testX[0], axis=0)  # Add batch dimension\n",
        "predictions = model.model.predict(image)\n",
        "predicted_label = np.argmax(predictions[0])\n",
        "print(predicted_label)"
      ],
      "metadata": {
        "colab": {
          "base_uri": "https://localhost:8080/"
        },
        "id": "s8TK8WADEVhT",
        "outputId": "fbce97be-b533-47eb-944b-f0fc64af95b9"
      },
      "execution_count": 27,
      "outputs": [
        {
          "output_type": "stream",
          "name": "stdout",
          "text": [
            "1/1 [==============================] - 0s 320ms/step\n",
            "7\n"
          ]
        }
      ]
    },
    {
      "cell_type": "code",
      "source": [
        "# convert the image back to the range [0, 255]\n",
        "image_to_save = (testX[0] * 255).astype(\"uint8\")\n",
        "\n",
        "# save the image\n",
        "cv2.imwrite('test_img.png', image_to_save)"
      ],
      "metadata": {
        "colab": {
          "base_uri": "https://localhost:8080/"
        },
        "id": "eyE78srgH50q",
        "outputId": "5ad178be-9558-41b4-89dd-e4905c0fb4b9"
      },
      "execution_count": 38,
      "outputs": [
        {
          "output_type": "execute_result",
          "data": {
            "text/plain": [
              "True"
            ]
          },
          "metadata": {},
          "execution_count": 38
        }
      ]
    },
    {
      "cell_type": "code",
      "source": [
        "orig = cv2.imread('test_img.png')\n",
        "orig_gray = cv2.cvtColor(orig, cv2.COLOR_BGR2GRAY)"
      ],
      "metadata": {
        "id": "q2kWRHVDH_bP"
      },
      "execution_count": 62,
      "outputs": []
    },
    {
      "cell_type": "code",
      "source": [
        "cam = GradCAM(model, predicted_label)\n",
        "heatmap = cam.compute_heatmap(image)"
      ],
      "metadata": {
        "id": "Uz2zbcPAEvjC"
      },
      "execution_count": 63,
      "outputs": []
    },
    {
      "cell_type": "code",
      "source": [
        "heatmap = cv2.resize(heatmap, (orig.shape[1], orig.shape[0]))\n",
        "(heatmap, output) = cam.overlay_heatmap(heatmap, orig, alpha=0.5)"
      ],
      "metadata": {
        "id": "Oy_RQyB4GPJJ"
      },
      "execution_count": 64,
      "outputs": []
    },
    {
      "cell_type": "code",
      "source": [
        "from google.colab.patches import cv2_imshow"
      ],
      "metadata": {
        "id": "ajq_b0a-Ir9p"
      },
      "execution_count": 65,
      "outputs": []
    },
    {
      "cell_type": "code",
      "source": [
        "# draw the predicted label on the output image\n",
        "cv2.rectangle(output, (0, 0), (340, 40), (0, 0, 0), -1)\n",
        "# display the original image and resulting heatmap and output image\n",
        "# to our screen\n",
        "output = np.vstack([orig, heatmap, output])\n",
        "# Calculate the aspect ratio\n",
        "aspect_ratio = output.shape[1] / output.shape[0]\n",
        "# Determine new width\n",
        "new_width = int(aspect_ratio * 700)\n",
        "# Resize the image\n",
        "output_resized = cv2.resize(output, (new_width, 700))\n",
        "cv2_imshow(output_resized)"
      ],
      "metadata": {
        "colab": {
          "base_uri": "https://localhost:8080/",
          "height": 717
        },
        "id": "3NhJodORHMAZ",
        "outputId": "c02239ff-684e-4433-c62f-2d088bf68dd2"
      },
      "execution_count": 66,
      "outputs": [
        {
          "output_type": "display_data",
          "data": {
            "text/plain": [
              "<PIL.Image.Image image mode=RGB size=233x700>"
            ],
            "image/png": "[encoded data removed]"
          },
          "metadata": {}
        }
      ]
    },
    {
      "cell_type": "code",
      "source": [],
      "metadata": {
        "id": "6bPIHsvIIgQZ"
      },
      "execution_count": null,
      "outputs": []
    }
  ]
}